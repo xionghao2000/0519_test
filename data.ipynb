{
 "cells": [
  {
   "cell_type": "code",
   "execution_count": 1,
   "metadata": {},
   "outputs": [],
   "source": [
    "import pandas as pd\n",
    "import numpy as np\n",
    "import matplotlib.pyplot as plt"
   ]
  },
  {
   "cell_type": "code",
   "execution_count": 2,
   "metadata": {},
   "outputs": [
    {
     "name": "stdout",
     "output_type": "stream",
     "text": [
      "                   A         B         C         D\n",
      "2018-01-01 -0.908437  1.213029 -0.693413 -1.655727\n",
      "2018-01-02  0.809639  1.619029  1.833343  0.875054\n",
      "2018-01-03  1.618716  0.218173 -0.724077  0.123162\n",
      "2018-01-04  0.353705  0.037544 -0.420724 -1.205227\n",
      "2018-01-05  0.648925 -0.922315  0.711487 -0.978321\n",
      "2018-01-06 -0.329175  0.161393  0.029142 -0.021977\n"
     ]
    }
   ],
   "source": [
    "# 生成一个时间序列\n",
    "dates = pd.date_range('20180101', periods=6)\n",
    "df = pd.DataFrame(np.random.randn(6, 4), index=dates, columns=list('ABCD'))\n",
    "print(df)\n"
   ]
  },
  {
   "cell_type": "code",
   "execution_count": null,
   "metadata": {},
   "outputs": [],
   "source": []
  }
 ],
 "metadata": {
  "kernelspec": {
   "display_name": "env_name",
   "language": "python",
   "name": "python3"
  },
  "language_info": {
   "codemirror_mode": {
    "name": "ipython",
    "version": 3
   },
   "file_extension": ".py",
   "mimetype": "text/x-python",
   "name": "python",
   "nbconvert_exporter": "python",
   "pygments_lexer": "ipython3",
   "version": "3.7.16"
  }
 },
 "nbformat": 4,
 "nbformat_minor": 2
}
